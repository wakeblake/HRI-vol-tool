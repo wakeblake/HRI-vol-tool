{
 "cells": [
  {
   "cell_type": "code",
   "execution_count": 4,
   "id": "14fc11fd-1e77-4c34-acc2-d52b5985ecc8",
   "metadata": {},
   "outputs": [],
   "source": [
    "from googleapiclient import errors\n",
    "from googleapiclient.discovery import build\n",
    "from google_auth_oauthlib.flow import InstalledAppFlow\n",
    "from google.auth.transport.requests import Request\n",
    "from google.oauth2.credentials import Credentials\n",
    "import os.path\n",
    "import sys "
   ]
  },
  {
   "cell_type": "code",
   "execution_count": 5,
   "id": "b8901f82-91ee-4de3-bf18-0193c2ce07a4",
   "metadata": {},
   "outputs": [],
   "source": [
    "SCOPES = ['https://www.googleapis.com/auth/script.projects']\n",
    "\n",
    "scriptId = '10dxhM9xAiidVPwH1D1P5Lm6kBGf6e7hP8vyr-hu0fnhGitCBqAJyxRz5'\n",
    "\n",
    "def main():\n",
    "    \"\"\"Calls the Apps Script API.\n",
    "    \"\"\"\n",
    "    creds = None\n",
    "    # The file token.json stores the user's access and refresh tokens, and is\n",
    "    # created automatically when the authorization flow completes for the first\n",
    "    # time.\n",
    "    if os.path.exists('token.json'):\n",
    "        creds = Credentials.from_authorized_user_file('token.json', SCOPES)\n",
    "    # If there are no (valid) credentials available, let the user log in.\n",
    "    if not creds or not creds.valid:\n",
    "        if creds and creds.expired and creds.refresh_token:\n",
    "            creds.refresh(Request())\n",
    "        else:\n",
    "            flow = InstalledAppFlow.from_client_secrets_file(\n",
    "                'credentials.json', SCOPES)\n",
    "            creds = flow.run_local_server(port=0)\n",
    "        # Save the credentials for the next run\n",
    "        with open('token.json', 'w') as token:\n",
    "            token.write(creds.to_json())\n",
    "\n",
    "    # Build request\n",
    "    service = build('script', 'v1', credentials=creds)\n",
    "    \n",
    "    # Call the Apps Script API\n",
    "    try:\n",
    "        # Get project\n",
    "        response = service.projects().getContent(scriptId=scriptId).execute()\n",
    "        service.close()\n",
    "        return response\n",
    "    except errors.HttpError as error:\n",
    "        # The API encountered a problem.\n",
    "        print(error.content)"
   ]
  },
  {
   "cell_type": "code",
   "execution_count": 6,
   "id": "a2bd4d96-f8a0-426f-bba2-0e623d541670",
   "metadata": {},
   "outputs": [],
   "source": [
    "origin = sys.stdout\n",
    "\n",
    "os.chdir('/home/blake/Desktop/HRIDev')\n",
    "script = main()\n",
    "os.chdir('/home/blake/Desktop/HRIDev/VHRT')\n",
    "\n",
    "for f in script['files']:\n",
    "    if f['type'] == 'JSON':\n",
    "        ftype = '.json'\n",
    "    elif f['type'] == 'SERVER_JS':\n",
    "        ftype = '.gs'\n",
    "    elif f['type'] == 'HTML':\n",
    "        ftype = '.html'\n",
    "    \n",
    "    fname = '{}{}'.format(f['name'], ftype)\n",
    "        \n",
    "    with open(fname, 'w+') as file:\n",
    "        sys.stdout = file\n",
    "        print(f['source'])\n",
    "        sys.stdout = origin"
   ]
  },
  {
   "cell_type": "code",
   "execution_count": null,
   "id": "4d6e28b5-4b67-46ae-8266-263ffba3cd5b",
   "metadata": {},
   "outputs": [],
   "source": []
  }
 ],
 "metadata": {
  "kernelspec": {
   "display_name": "venv396",
   "language": "python",
   "name": "venv396"
  },
  "language_info": {
   "codemirror_mode": {
    "name": "ipython",
    "version": 3
   },
   "file_extension": ".py",
   "mimetype": "text/x-python",
   "name": "python",
   "nbconvert_exporter": "python",
   "pygments_lexer": "ipython3",
   "version": "3.9.7"
  }
 },
 "nbformat": 4,
 "nbformat_minor": 5
}
